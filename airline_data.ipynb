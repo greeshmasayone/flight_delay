{
 "cells": [
  {
   "cell_type": "code",
   "execution_count": 1,
   "id": "2c074f53-c9c2-4a7b-a490-c0023e0a33d9",
   "metadata": {},
   "outputs": [
    {
     "name": "stdout",
     "output_type": "stream",
     "text": [
      "importing libraries \n",
      "pandas maximum column width is set to 400 and maximum number of columns to None\n",
      "Setting up variables ....\n",
      "/home/sayone/Docs/airline_analysis/delta_lake/flight_bronz\n",
      "vars_df is available as HTML content to display simply run HTML(vars_df)\n"
     ]
    }
   ],
   "source": [
    "# This cell imports all nessecary libraries\n",
    "%load_ext autoreload\n",
    "%autoreload 2 \n",
    "%run config"
   ]
  },
  {
   "cell_type": "code",
   "execution_count": 2,
   "id": "fbd8ed03-fdc4-4a22-85c0-d9ba41d034ca",
   "metadata": {},
   "outputs": [
    {
     "data": {
      "text/html": [
       "<table border=\"1\" class=\"dataframe\">\n",
       "  <thead>\n",
       "    <tr style=\"text-align: right;\">\n",
       "      <th></th>\n",
       "      <th>Name</th>\n",
       "      <th>Value</th>\n",
       "      <th>Description</th>\n",
       "    </tr>\n",
       "  </thead>\n",
       "  <tbody>\n",
       "    <tr>\n",
       "      <th>0</th>\n",
       "      <td>working_dir</td>\n",
       "      <td>/home/sayone/Docs/airline_analysis</td>\n",
       "      <td>string path for current working directory</td>\n",
       "    </tr>\n",
       "    <tr>\n",
       "      <th>1</th>\n",
       "      <td>data_source</td>\n",
       "      <td>/home/sayone/Docs/airline_analysis/airline_data_csv/</td>\n",
       "      <td>string path for data source location</td>\n",
       "    </tr>\n",
       "    <tr>\n",
       "      <th>2</th>\n",
       "      <td>delta_lake</td>\n",
       "      <td>/home/sayone/Docs/airline_analysis/delta_lake/</td>\n",
       "      <td>string path for delta lake location</td>\n",
       "    </tr>\n",
       "    <tr>\n",
       "      <th>3</th>\n",
       "      <td>flight_raw_path</td>\n",
       "      <td>/home/sayone/Docs/airline_analysis/delta_lake/flights_raw/</td>\n",
       "      <td>string path for flight raw data</td>\n",
       "    </tr>\n",
       "    <tr>\n",
       "      <th>4</th>\n",
       "      <td>flight_bronz_path</td>\n",
       "      <td>/home/sayone/Docs/airline_analysis/delta_lake/flight_bronz</td>\n",
       "      <td>string path for flight bronz data</td>\n",
       "    </tr>\n",
       "    <tr>\n",
       "      <th>5</th>\n",
       "      <td>flight_silver_path</td>\n",
       "      <td>/home/sayone/Docs/airline_analysis/delta_lake/flight_silver</td>\n",
       "      <td>string path for flight silver data</td>\n",
       "    </tr>\n",
       "    <tr>\n",
       "      <th>6</th>\n",
       "      <td>flight_gold_path</td>\n",
       "      <td>/home/sayone/Docs/airline_analysis/delta_lake/flight_gold</td>\n",
       "      <td>string path for flight gold data</td>\n",
       "    </tr>\n",
       "    <tr>\n",
       "      <th>7</th>\n",
       "      <td>date_gold_path</td>\n",
       "      <td>/home/sayone/Docs/airline_analysis/delta_lake/date_gold</td>\n",
       "      <td>string path for date gold data</td>\n",
       "    </tr>\n",
       "    <tr>\n",
       "      <th>8</th>\n",
       "      <td>checkpoints_path</td>\n",
       "      <td>/home/sayone/Docs/airline_analysis/checkpoints</td>\n",
       "      <td>string path for checkpoints directory</td>\n",
       "    </tr>\n",
       "    <tr>\n",
       "      <th>9</th>\n",
       "      <td>flight_raw_checkpoint</td>\n",
       "      <td>/home/sayone/Docs/airline_analysis/checkpoints/flight_raw/</td>\n",
       "      <td>string path for flight raw checkpoint</td>\n",
       "    </tr>\n",
       "    <tr>\n",
       "      <th>10</th>\n",
       "      <td>flight_bronz_checkpoint</td>\n",
       "      <td>/home/sayone/Docs/airline_analysis/checkpoints/flight_bronz</td>\n",
       "      <td>string path for flight bronz checkpoint</td>\n",
       "    </tr>\n",
       "    <tr>\n",
       "      <th>11</th>\n",
       "      <td>flight_silver_checkpoint</td>\n",
       "      <td>/home/sayone/Docs/airline_analysis/checkpoints/flight_silver</td>\n",
       "      <td>string path for flight silver checkpoint</td>\n",
       "    </tr>\n",
       "    <tr>\n",
       "      <th>12</th>\n",
       "      <td>flight_gold_checkpoint</td>\n",
       "      <td>/home/sayone/Docs/airline_analysis/checkpoints/flight_gold</td>\n",
       "      <td>string path for flight gold checkpoint</td>\n",
       "    </tr>\n",
       "    <tr>\n",
       "      <th>13</th>\n",
       "      <td>flight_raw_data_path</td>\n",
       "      <td>/home/sayone/Docs/airline_analysis/airline_data_csv/flights_raw/</td>\n",
       "      <td>string path for flight raw data source</td>\n",
       "    </tr>\n",
       "  </tbody>\n",
       "</table>"
      ],
      "text/plain": [
       "<IPython.core.display.HTML object>"
      ]
     },
     "execution_count": 2,
     "metadata": {},
     "output_type": "execute_result"
    }
   ],
   "source": [
    "# Display the variables availble in the enviroment\n",
    "HTML(vars_df)\n"
   ]
  },
  {
   "cell_type": "code",
   "execution_count": 3,
   "id": "e7cb4bfa-2723-41d7-82c1-1b9b197e322c",
   "metadata": {},
   "outputs": [
    {
     "name": "stdout",
     "output_type": "stream",
     "text": [
      "Setting up spark configurations.....\n"
     ]
    },
    {
     "name": "stderr",
     "output_type": "stream",
     "text": [
      "24/01/11 10:39:18 WARN Utils: Your hostname, sayone-Lenovo-V15-G2-ITL-Ua resolves to a loopback address: 127.0.1.1; using 192.168.1.103 instead (on interface wlp0s20f3)\n",
      "24/01/11 10:39:18 WARN Utils: Set SPARK_LOCAL_IP if you need to bind to another address\n"
     ]
    },
    {
     "name": "stdout",
     "output_type": "stream",
     "text": [
      ":: loading settings :: url = jar:file:/opt/spark/spark-3.5.0-bin-hadoop3/jars/ivy-2.5.1.jar!/org/apache/ivy/core/settings/ivysettings.xml\n"
     ]
    },
    {
     "name": "stderr",
     "output_type": "stream",
     "text": [
      "Ivy Default Cache set to: /home/sayone/.ivy2/cache\n",
      "The jars for the packages stored in: /home/sayone/.ivy2/jars\n",
      "io.delta#delta-spark_2.12 added as a dependency\n",
      ":: resolving dependencies :: org.apache.spark#spark-submit-parent-0be497e8-e449-4a16-af16-c71c96e3d485;1.0\n",
      "\tconfs: [default]\n",
      "\tfound io.delta#delta-spark_2.12;3.0.0 in central\n",
      "\tfound io.delta#delta-storage;3.0.0 in central\n",
      "\tfound org.antlr#antlr4-runtime;4.9.3 in central\n",
      ":: resolution report :: resolve 120ms :: artifacts dl 5ms\n",
      "\t:: modules in use:\n",
      "\tio.delta#delta-spark_2.12;3.0.0 from central in [default]\n",
      "\tio.delta#delta-storage;3.0.0 from central in [default]\n",
      "\torg.antlr#antlr4-runtime;4.9.3 from central in [default]\n",
      "\t---------------------------------------------------------------------\n",
      "\t|                  |            modules            ||   artifacts   |\n",
      "\t|       conf       | number| search|dwnlded|evicted|| number|dwnlded|\n",
      "\t---------------------------------------------------------------------\n",
      "\t|      default     |   3   |   0   |   0   |   0   ||   3   |   0   |\n",
      "\t---------------------------------------------------------------------\n",
      ":: retrieving :: org.apache.spark#spark-submit-parent-0be497e8-e449-4a16-af16-c71c96e3d485\n",
      "\tconfs: [default]\n",
      "\t0 artifacts copied, 3 already retrieved (0kB/4ms)\n",
      "24/01/11 10:39:19 WARN NativeCodeLoader: Unable to load native-hadoop library for your platform... using builtin-java classes where applicable\n",
      "Setting default log level to \"WARN\".\n",
      "To adjust logging level use sc.setLogLevel(newLevel). For SparkR, use setLogLevel(newLevel).\n"
     ]
    },
    {
     "name": "stdout",
     "output_type": "stream",
     "text": [
      "spark session is now available in the environment as spark\n",
      "spark_config_df is available as HTML content to display simply run HTML(spark_config_df)\n"
     ]
    },
    {
     "name": "stderr",
     "output_type": "stream",
     "text": [
      "24/01/11 10:39:22 WARN HiveConf: HiveConf of name hive.stats.jdbc.timeout does not exist\n",
      "24/01/11 10:39:22 WARN HiveConf: HiveConf of name hive.stats.retries.wait does not exist\n"
     ]
    },
    {
     "name": "stdout",
     "output_type": "stream",
     "text": [
      "Using flights_db database..\n"
     ]
    },
    {
     "name": "stderr",
     "output_type": "stream",
     "text": [
      "24/01/11 10:39:23 WARN ObjectStore: Version information not found in metastore. hive.metastore.schema.verification is not enabled so recording the schema version 2.3.0\n",
      "24/01/11 10:39:23 WARN ObjectStore: setMetaStoreSchemaVersion called but recording version is disabled: version = 2.3.0, comment = Set by MetaStore sayone@127.0.1.1\n",
      "24/01/11 10:39:24 WARN ObjectStore: Failed to get database global_temp, returning NoSuchObjectException\n"
     ]
    }
   ],
   "source": [
    "# This cell configures spark and makes it available\n",
    "%run spark_config"
   ]
  },
  {
   "cell_type": "code",
   "execution_count": 4,
   "id": "9d6ae735-1ab3-4c1b-92a5-e4c4cef53a4f",
   "metadata": {},
   "outputs": [
    {
     "data": {
      "text/html": [
       "<table border=\"1\" class=\"dataframe\">\n",
       "  <thead>\n",
       "    <tr style=\"text-align: right;\">\n",
       "      <th></th>\n",
       "      <th>Config</th>\n",
       "      <th>Value</th>\n",
       "      <th>Description</th>\n",
       "    </tr>\n",
       "  </thead>\n",
       "  <tbody>\n",
       "    <tr>\n",
       "      <th>0</th>\n",
       "      <td>spark.sql.extensions</td>\n",
       "      <td>io.delta.sql.DeltaSparkSessionExtension</td>\n",
       "      <td>Using delta io extension</td>\n",
       "    </tr>\n",
       "    <tr>\n",
       "      <th>1</th>\n",
       "      <td>spark.sql.catalog.spark_catalog</td>\n",
       "      <td>org.apache.spark.sql.delta.catalog.DeltaCatalog</td>\n",
       "      <td>Setting spark catalog to use DeltaCatalog</td>\n",
       "    </tr>\n",
       "    <tr>\n",
       "      <th>2</th>\n",
       "      <td>spark.ui.port</td>\n",
       "      <td>4050</td>\n",
       "      <td>Spark UI port number</td>\n",
       "    </tr>\n",
       "    <tr>\n",
       "      <th>3</th>\n",
       "      <td>spark.sql.shuffle.partitions</td>\n",
       "      <td>8</td>\n",
       "      <td>setting the number of shuffle partitions to the number of cores available</td>\n",
       "    </tr>\n",
       "    <tr>\n",
       "      <th>4</th>\n",
       "      <td>spark.sql.adaptive.enabled</td>\n",
       "      <td>True</td>\n",
       "      <td>Enabling adaptive query optimization</td>\n",
       "    </tr>\n",
       "    <tr>\n",
       "      <th>5</th>\n",
       "      <td>spark.memory.offHeap.enabled</td>\n",
       "      <td>True</td>\n",
       "      <td>Enabling offHeap memory</td>\n",
       "    </tr>\n",
       "    <tr>\n",
       "      <th>6</th>\n",
       "      <td>spark.memory.offHeap.size</td>\n",
       "      <td>10737418240</td>\n",
       "      <td>Setting offHeap memory to 10 GB</td>\n",
       "    </tr>\n",
       "  </tbody>\n",
       "</table>"
      ],
      "text/plain": [
       "<IPython.core.display.HTML object>"
      ]
     },
     "execution_count": 4,
     "metadata": {},
     "output_type": "execute_result"
    }
   ],
   "source": [
    "# Display Spark Configurations\n",
    "HTML(spark_config_df)"
   ]
  },
  {
   "cell_type": "code",
   "execution_count": 6,
   "id": "1bcc89c8-a9c9-449a-af25-a075de9147ec",
   "metadata": {},
   "outputs": [
    {
     "name": "stdout",
     "output_type": "stream",
     "text": [
      "No source is provided trying to load from latest checkpoint\n",
      "No checkpoint found at /home/sayone/Docs/airline_analysis/checkpoints/flight_raw/...\n",
      "No checkpoint found at /home/sayone/Docs/airline_analysis/checkpoints/flight_raw/...\n"
     ]
    }
   ],
   "source": [
    "flights_stream = FlightsRaw(flight_raw_checkpoint, flight_raw_data_path, flight_raw_path)\n",
    "flights_stream.load()\n"
   ]
  },
  {
   "cell_type": "code",
   "execution_count": 7,
   "id": "f7415c04-81e4-4361-8985-05084b1464a4",
   "metadata": {},
   "outputs": [
    {
     "ename": "AttributeError",
     "evalue": "'FlightsRaw' object has no attribute 'retrive'",
     "output_type": "error",
     "traceback": [
      "\u001b[0;31m---------------------------------------------------------------------------\u001b[0m",
      "\u001b[0;31mAttributeError\u001b[0m                            Traceback (most recent call last)",
      "Cell \u001b[0;32mIn[7], line 2\u001b[0m\n\u001b[1;32m      1\u001b[0m \u001b[38;5;66;03m# Retriving the first 15 years from flights dataset\u001b[39;00m\n\u001b[0;32m----> 2\u001b[0m \u001b[43mflights_stream\u001b[49m\u001b[38;5;241;43m.\u001b[39;49m\u001b[43mretrive\u001b[49m(\u001b[38;5;241m15\u001b[39m, multiprocess\u001b[38;5;241m=\u001b[39m\u001b[38;5;28;01mTrue\u001b[39;00m)\n",
      "\u001b[0;31mAttributeError\u001b[0m: 'FlightsRaw' object has no attribute 'retrive'"
     ]
    }
   ],
   "source": [
    "# Retriving the first 15 years from flights dataset\n",
    "flights_stream.retrive(15, multiprocess=True)"
   ]
  }
 ],
 "metadata": {
  "kernelspec": {
   "display_name": "Python 3 (ipykernel)",
   "language": "python",
   "name": "python3"
  },
  "language_info": {
   "codemirror_mode": {
    "name": "ipython",
    "version": 3
   },
   "file_extension": ".py",
   "mimetype": "text/x-python",
   "name": "python",
   "nbconvert_exporter": "python",
   "pygments_lexer": "ipython3",
   "version": "3.8.10"
  }
 },
 "nbformat": 4,
 "nbformat_minor": 5
}
